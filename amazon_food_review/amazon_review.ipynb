{
  "nbformat": 4,
  "nbformat_minor": 0,
  "metadata": {
    "kernelspec": {
      "display_name": "Python 3",
      "language": "python",
      "name": "python3"
    },
    "language_info": {
      "codemirror_mode": {
        "name": "ipython",
        "version": 3
      },
      "file_extension": ".py",
      "mimetype": "text/x-python",
      "name": "python",
      "nbconvert_exporter": "python",
      "pygments_lexer": "ipython3",
      "version": "3.6.5"
    },
    "colab": {
      "name": "amazon_review.ipynb",
      "provenance": [],
      "toc_visible": true
    }
  },
  "cells": [
    {
      "cell_type": "markdown",
      "metadata": {
        "id": "dAmLxUrZJ1zH",
        "colab_type": "text"
      },
      "source": [
        "# Loading the data\n"
      ]
    },
    {
      "cell_type": "code",
      "metadata": {
        "id": "rvyFGHpIJ1zL",
        "colab_type": "code",
        "colab": {
          "base_uri": "https://localhost:8080/",
          "height": 72
        },
        "outputId": "3ba779f9-3824-43f1-a6d3-eef8a2ab651f"
      },
      "source": [
        "%matplotlib inline\n",
        "\n",
        "import sqlite3\n",
        "import pandas as pd\n",
        "import numpy as np\n",
        "import nltk\n",
        "import string \n",
        "import matplotlib.pyplot as plt\n",
        "import seaborn as sns\n",
        "\n",
        "from sklearn.feature_extraction.text import TfidfTransformer\n",
        "from sklearn.feature_extraction.text import TfidfVectorizer\n",
        "\n",
        "from sklearn.feature_extraction.text import CountVectorizer\n",
        "from sklearn.metrics import confusion_matrix\n",
        "from sklearn import metrics \n",
        "from sklearn.metrics import roc_curve,auc\n",
        "from nltk.stem.porter import PorterStemmer\n",
        "\n"
      ],
      "execution_count": 1,
      "outputs": [
        {
          "output_type": "stream",
          "text": [
            "/usr/local/lib/python3.6/dist-packages/statsmodels/tools/_testing.py:19: FutureWarning: pandas.util.testing is deprecated. Use the functions in the public API at pandas.testing instead.\n",
            "  import pandas.util.testing as tm\n"
          ],
          "name": "stderr"
        }
      ]
    },
    {
      "cell_type": "code",
      "metadata": {
        "id": "rQl8yGbdLQKT",
        "colab_type": "code",
        "colab": {
          "base_uri": "https://localhost:8080/",
          "height": 125
        },
        "outputId": "5c110437-099a-4a8e-f8cd-eac2108a8462"
      },
      "source": [
        "from google.colab import drive\n",
        "drive.mount('/content/drive')"
      ],
      "execution_count": 3,
      "outputs": [
        {
          "output_type": "stream",
          "text": [
            "Go to this URL in a browser: https://accounts.google.com/o/oauth2/auth?client_id=947318989803-6bn6qk8qdgf4n4g3pfee6491hc0brc4i.apps.googleusercontent.com&redirect_uri=urn%3aietf%3awg%3aoauth%3a2.0%3aoob&response_type=code&scope=email%20https%3a%2f%2fwww.googleapis.com%2fauth%2fdocs.test%20https%3a%2f%2fwww.googleapis.com%2fauth%2fdrive%20https%3a%2f%2fwww.googleapis.com%2fauth%2fdrive.photos.readonly%20https%3a%2f%2fwww.googleapis.com%2fauth%2fpeopleapi.readonly\n",
            "\n",
            "Enter your authorization code:\n",
            "··········\n",
            "Mounted at /content/drive\n"
          ],
          "name": "stdout"
        }
      ]
    },
    {
      "cell_type": "code",
      "metadata": {
        "id": "JKJVEP83SMDg",
        "colab_type": "code",
        "colab": {
          "base_uri": "https://localhost:8080/",
          "height": 34
        },
        "outputId": "2f79f321-13da-41d8-8396-82a8bdb0c1a7"
      },
      "source": [
        "!ls '/content/drive/My Drive/amazon_data'"
      ],
      "execution_count": 4,
      "outputs": [
        {
          "output_type": "stream",
          "text": [
            "database.sqlite  Reviews.csv\n"
          ],
          "name": "stdout"
        }
      ]
    },
    {
      "cell_type": "code",
      "metadata": {
        "id": "5QQoCvSqJ1zW",
        "colab_type": "code",
        "colab": {}
      },
      "source": [
        "# connection to the database\n",
        "con = sqlite3.connect('/content/drive/My Drive/amazon_data/database.sqlite')\n",
        "\n",
        "# filtering psitive and negative reviews\n",
        "filtered_data = pd.read_sql_query(\"\"\"\n",
        "SELECT * FROM Reviews WHERE Score != 3\n",
        "\"\"\",con)"
      ],
      "execution_count": 0,
      "outputs": []
    },
    {
      "cell_type": "code",
      "metadata": {
        "id": "xlJwFf9YJ1zh",
        "colab_type": "code",
        "colab": {
          "base_uri": "https://localhost:8080/",
          "height": 1000
        },
        "outputId": "957fd9c4-1fc1-4bb2-b2df-b83480118f24"
      },
      "source": [
        "filtered_data"
      ],
      "execution_count": 6,
      "outputs": [
        {
          "output_type": "execute_result",
          "data": {
            "text/html": [
              "<div>\n",
              "<style scoped>\n",
              "    .dataframe tbody tr th:only-of-type {\n",
              "        vertical-align: middle;\n",
              "    }\n",
              "\n",
              "    .dataframe tbody tr th {\n",
              "        vertical-align: top;\n",
              "    }\n",
              "\n",
              "    .dataframe thead th {\n",
              "        text-align: right;\n",
              "    }\n",
              "</style>\n",
              "<table border=\"1\" class=\"dataframe\">\n",
              "  <thead>\n",
              "    <tr style=\"text-align: right;\">\n",
              "      <th></th>\n",
              "      <th>Id</th>\n",
              "      <th>ProductId</th>\n",
              "      <th>UserId</th>\n",
              "      <th>ProfileName</th>\n",
              "      <th>HelpfulnessNumerator</th>\n",
              "      <th>HelpfulnessDenominator</th>\n",
              "      <th>Score</th>\n",
              "      <th>Time</th>\n",
              "      <th>Summary</th>\n",
              "      <th>Text</th>\n",
              "    </tr>\n",
              "  </thead>\n",
              "  <tbody>\n",
              "    <tr>\n",
              "      <th>0</th>\n",
              "      <td>1</td>\n",
              "      <td>B001E4KFG0</td>\n",
              "      <td>A3SGXH7AUHU8GW</td>\n",
              "      <td>delmartian</td>\n",
              "      <td>1</td>\n",
              "      <td>1</td>\n",
              "      <td>5</td>\n",
              "      <td>1303862400</td>\n",
              "      <td>Good Quality Dog Food</td>\n",
              "      <td>I have bought several of the Vitality canned d...</td>\n",
              "    </tr>\n",
              "    <tr>\n",
              "      <th>1</th>\n",
              "      <td>2</td>\n",
              "      <td>B00813GRG4</td>\n",
              "      <td>A1D87F6ZCVE5NK</td>\n",
              "      <td>dll pa</td>\n",
              "      <td>0</td>\n",
              "      <td>0</td>\n",
              "      <td>1</td>\n",
              "      <td>1346976000</td>\n",
              "      <td>Not as Advertised</td>\n",
              "      <td>Product arrived labeled as Jumbo Salted Peanut...</td>\n",
              "    </tr>\n",
              "    <tr>\n",
              "      <th>2</th>\n",
              "      <td>3</td>\n",
              "      <td>B000LQOCH0</td>\n",
              "      <td>ABXLMWJIXXAIN</td>\n",
              "      <td>Natalia Corres \"Natalia Corres\"</td>\n",
              "      <td>1</td>\n",
              "      <td>1</td>\n",
              "      <td>4</td>\n",
              "      <td>1219017600</td>\n",
              "      <td>\"Delight\" says it all</td>\n",
              "      <td>This is a confection that has been around a fe...</td>\n",
              "    </tr>\n",
              "    <tr>\n",
              "      <th>3</th>\n",
              "      <td>4</td>\n",
              "      <td>B000UA0QIQ</td>\n",
              "      <td>A395BORC6FGVXV</td>\n",
              "      <td>Karl</td>\n",
              "      <td>3</td>\n",
              "      <td>3</td>\n",
              "      <td>2</td>\n",
              "      <td>1307923200</td>\n",
              "      <td>Cough Medicine</td>\n",
              "      <td>If you are looking for the secret ingredient i...</td>\n",
              "    </tr>\n",
              "    <tr>\n",
              "      <th>4</th>\n",
              "      <td>5</td>\n",
              "      <td>B006K2ZZ7K</td>\n",
              "      <td>A1UQRSCLF8GW1T</td>\n",
              "      <td>Michael D. Bigham \"M. Wassir\"</td>\n",
              "      <td>0</td>\n",
              "      <td>0</td>\n",
              "      <td>5</td>\n",
              "      <td>1350777600</td>\n",
              "      <td>Great taffy</td>\n",
              "      <td>Great taffy at a great price.  There was a wid...</td>\n",
              "    </tr>\n",
              "    <tr>\n",
              "      <th>...</th>\n",
              "      <td>...</td>\n",
              "      <td>...</td>\n",
              "      <td>...</td>\n",
              "      <td>...</td>\n",
              "      <td>...</td>\n",
              "      <td>...</td>\n",
              "      <td>...</td>\n",
              "      <td>...</td>\n",
              "      <td>...</td>\n",
              "      <td>...</td>\n",
              "    </tr>\n",
              "    <tr>\n",
              "      <th>525809</th>\n",
              "      <td>568450</td>\n",
              "      <td>B001EO7N10</td>\n",
              "      <td>A28KG5XORO54AY</td>\n",
              "      <td>Lettie D. Carter</td>\n",
              "      <td>0</td>\n",
              "      <td>0</td>\n",
              "      <td>5</td>\n",
              "      <td>1299628800</td>\n",
              "      <td>Will not do without</td>\n",
              "      <td>Great for sesame chicken..this is a good if no...</td>\n",
              "    </tr>\n",
              "    <tr>\n",
              "      <th>525810</th>\n",
              "      <td>568451</td>\n",
              "      <td>B003S1WTCU</td>\n",
              "      <td>A3I8AFVPEE8KI5</td>\n",
              "      <td>R. Sawyer</td>\n",
              "      <td>0</td>\n",
              "      <td>0</td>\n",
              "      <td>2</td>\n",
              "      <td>1331251200</td>\n",
              "      <td>disappointed</td>\n",
              "      <td>I'm disappointed with the flavor. The chocolat...</td>\n",
              "    </tr>\n",
              "    <tr>\n",
              "      <th>525811</th>\n",
              "      <td>568452</td>\n",
              "      <td>B004I613EE</td>\n",
              "      <td>A121AA1GQV751Z</td>\n",
              "      <td>pksd \"pk_007\"</td>\n",
              "      <td>2</td>\n",
              "      <td>2</td>\n",
              "      <td>5</td>\n",
              "      <td>1329782400</td>\n",
              "      <td>Perfect for our maltipoo</td>\n",
              "      <td>These stars are small, so you can give 10-15 o...</td>\n",
              "    </tr>\n",
              "    <tr>\n",
              "      <th>525812</th>\n",
              "      <td>568453</td>\n",
              "      <td>B004I613EE</td>\n",
              "      <td>A3IBEVCTXKNOH</td>\n",
              "      <td>Kathy A. Welch \"katwel\"</td>\n",
              "      <td>1</td>\n",
              "      <td>1</td>\n",
              "      <td>5</td>\n",
              "      <td>1331596800</td>\n",
              "      <td>Favorite Training and reward treat</td>\n",
              "      <td>These are the BEST treats for training and rew...</td>\n",
              "    </tr>\n",
              "    <tr>\n",
              "      <th>525813</th>\n",
              "      <td>568454</td>\n",
              "      <td>B001LR2CU2</td>\n",
              "      <td>A3LGQPJCZVL9UC</td>\n",
              "      <td>srfell17</td>\n",
              "      <td>0</td>\n",
              "      <td>0</td>\n",
              "      <td>5</td>\n",
              "      <td>1338422400</td>\n",
              "      <td>Great Honey</td>\n",
              "      <td>I am very satisfied ,product is as advertised,...</td>\n",
              "    </tr>\n",
              "  </tbody>\n",
              "</table>\n",
              "<p>525814 rows × 10 columns</p>\n",
              "</div>"
            ],
            "text/plain": [
              "            Id  ...                                               Text\n",
              "0            1  ...  I have bought several of the Vitality canned d...\n",
              "1            2  ...  Product arrived labeled as Jumbo Salted Peanut...\n",
              "2            3  ...  This is a confection that has been around a fe...\n",
              "3            4  ...  If you are looking for the secret ingredient i...\n",
              "4            5  ...  Great taffy at a great price.  There was a wid...\n",
              "...        ...  ...                                                ...\n",
              "525809  568450  ...  Great for sesame chicken..this is a good if no...\n",
              "525810  568451  ...  I'm disappointed with the flavor. The chocolat...\n",
              "525811  568452  ...  These stars are small, so you can give 10-15 o...\n",
              "525812  568453  ...  These are the BEST treats for training and rew...\n",
              "525813  568454  ...  I am very satisfied ,product is as advertised,...\n",
              "\n",
              "[525814 rows x 10 columns]"
            ]
          },
          "metadata": {
            "tags": []
          },
          "execution_count": 6
        }
      ]
    },
    {
      "cell_type": "code",
      "metadata": {
        "id": "Y6Ia2vtXJ1zr",
        "colab_type": "code",
        "colab": {}
      },
      "source": [
        "# seperate positive and negative reviews \n",
        "def partition(x):\n",
        "    if x<3:\n",
        "        return 'negative'\n",
        "    return 'positive'\n"
      ],
      "execution_count": 0,
      "outputs": []
    },
    {
      "cell_type": "code",
      "metadata": {
        "id": "_9aiLsS1J1z2",
        "colab_type": "code",
        "colab": {}
      },
      "source": [
        "filtered_data.shape"
      ],
      "execution_count": 0,
      "outputs": []
    },
    {
      "cell_type": "code",
      "metadata": {
        "id": "NyuiHsGNJ1z-",
        "colab_type": "code",
        "colab": {}
      },
      "source": [
        "actualScore = filtered_data['Score']\n",
        "positiveNegative = actualScore.map(partition)\n",
        "filtered_data['Score'] = positiveNegative\n",
        "# filtered_data['Score']"
      ],
      "execution_count": 0,
      "outputs": []
    },
    {
      "cell_type": "code",
      "metadata": {
        "id": "fP3tmE_yJ10H",
        "colab_type": "code",
        "colab": {}
      },
      "source": [
        "filtered_data.head()"
      ],
      "execution_count": 0,
      "outputs": []
    },
    {
      "cell_type": "markdown",
      "metadata": {
        "id": "M4ar1JfcJ10Q",
        "colab_type": "text"
      },
      "source": [
        "# Data cleaning: deduplication"
      ]
    },
    {
      "cell_type": "code",
      "metadata": {
        "id": "oCSaNljBJ10S",
        "colab_type": "code",
        "colab": {}
      },
      "source": [
        "display = pd.read_sql_query(\"\"\"\n",
        "SELECT * FROM Reviews WHERE Score != 3 AND UserId =\"AR5J8UI46CURR\"\n",
        "ORDER BY ProductID\n",
        "\"\"\",con)\n",
        "display"
      ],
      "execution_count": 0,
      "outputs": []
    },
    {
      "cell_type": "code",
      "metadata": {
        "id": "irKJ-Z3DJ10b",
        "colab_type": "code",
        "colab": {}
      },
      "source": [
        "# first sorting data according to productid in ascdending order\n",
        "sorted_data = filtered_data.sort_values('ProductId',axis=0,ascending=True)\n"
      ],
      "execution_count": 0,
      "outputs": []
    },
    {
      "cell_type": "code",
      "metadata": {
        "id": "lbj3ar6QJ10i",
        "colab_type": "code",
        "colab": {}
      },
      "source": [
        "# remove duplicate entries \n",
        "final = sorted_data.drop_duplicates(subset={\"UserId\",\"ProfileName\",\"Time\",\"Text\"},keep='first',inplace=False)\n",
        "final.shape"
      ],
      "execution_count": 0,
      "outputs": []
    },
    {
      "cell_type": "code",
      "metadata": {
        "id": "qXdu8mciJ10s",
        "colab_type": "code",
        "colab": {}
      },
      "source": [
        "# Checking what % of data still remains \n",
        "(final['Id'].size*1.0)/(filtered_data['Id'].size*1.0)*100"
      ],
      "execution_count": 0,
      "outputs": []
    },
    {
      "cell_type": "code",
      "metadata": {
        "id": "o5hsgIzjJ101",
        "colab_type": "code",
        "colab": {}
      },
      "source": [
        "# some data have helpfulnessdenominator less than helpfulnessnumerator\n",
        "display = pd.read_sql_query(\"\"\"\n",
        "SELECT * FROM Reviews WHERE Score != 3 AND Id=44737 OR Id=64422\n",
        "ORDER BY ProductID\n",
        "\"\"\",con)\n",
        "display"
      ],
      "execution_count": 0,
      "outputs": []
    },
    {
      "cell_type": "code",
      "metadata": {
        "id": "yLfy8gZMJ10-",
        "colab_type": "code",
        "colab": {}
      },
      "source": [
        "final = final[final.HelpfulnessNumerator <= final.HelpfulnessDenominator]"
      ],
      "execution_count": 0,
      "outputs": []
    },
    {
      "cell_type": "code",
      "metadata": {
        "id": "wJBB8AH7J11E",
        "colab_type": "code",
        "colab": {}
      },
      "source": [
        "print(final.shape)"
      ],
      "execution_count": 0,
      "outputs": []
    },
    {
      "cell_type": "code",
      "metadata": {
        "id": "sH0vfn75J11O",
        "colab_type": "code",
        "colab": {}
      },
      "source": [
        "final['Score'].value_counts()"
      ],
      "execution_count": 0,
      "outputs": []
    },
    {
      "cell_type": "markdown",
      "metadata": {
        "id": "GpkIT56YJ11T",
        "colab_type": "text"
      },
      "source": [
        "# Bag of words"
      ]
    },
    {
      "cell_type": "code",
      "metadata": {
        "id": "g63n3FgfJ11V",
        "colab_type": "code",
        "colab": {}
      },
      "source": [
        "count_vect = CountVectorizer()\n",
        "final_counts = count_vect.fit_transform(final['Text'].values)"
      ],
      "execution_count": 0,
      "outputs": []
    },
    {
      "cell_type": "code",
      "metadata": {
        "id": "BW8UE6ofJ11f",
        "colab_type": "code",
        "colab": {}
      },
      "source": [
        "type(final_counts)"
      ],
      "execution_count": 0,
      "outputs": []
    },
    {
      "cell_type": "code",
      "metadata": {
        "id": "QklFYLb1J11p",
        "colab_type": "code",
        "colab": {}
      },
      "source": [
        "final_counts.get_shape()"
      ],
      "execution_count": 0,
      "outputs": []
    },
    {
      "cell_type": "markdown",
      "metadata": {
        "id": "KKWUJ67DJ11w",
        "colab_type": "text"
      },
      "source": [
        "# Text preprocessing (Stemming, stopword removal and lemmatization)"
      ]
    },
    {
      "cell_type": "code",
      "metadata": {
        "id": "tlJ-nRk0J11x",
        "colab_type": "code",
        "colab": {}
      },
      "source": [
        "# find sentences containing HTML pages\n",
        "import re\n",
        "i =0 \n",
        "for sent in final['Text'].values:\n",
        "    if(len(re.findall('<.*?>',sent))):\n",
        "        print(i)\n",
        "        print(sent)\n",
        "        break;\n",
        "    i+=1;"
      ],
      "execution_count": 0,
      "outputs": []
    },
    {
      "cell_type": "code",
      "metadata": {
        "id": "xuf-q0r7J113",
        "colab_type": "code",
        "colab": {}
      },
      "source": [
        "import string\n",
        "from nltk.corpus import stopwords\n",
        "from nltk.stem import PorterStemmer\n",
        "from nltk.stem.wordnet import WordNetLemmatizer\n",
        "import nltk\n",
        "nltk.download('stopwords')"
      ],
      "execution_count": 0,
      "outputs": []
    },
    {
      "cell_type": "code",
      "metadata": {
        "id": "YHe3f5qFJ11-",
        "colab_type": "code",
        "colab": {}
      },
      "source": [
        "stop = set(stopwords.words('english'))#set of stopwords\n",
        "stop"
      ],
      "execution_count": 0,
      "outputs": []
    },
    {
      "cell_type": "code",
      "metadata": {
        "id": "teCiUUQtJ12E",
        "colab_type": "code",
        "colab": {}
      },
      "source": [
        "# initializing a snowball stemmer\n",
        "sno = nltk.stem.SnowballStemmer('english')\n",
        "sno"
      ],
      "execution_count": 0,
      "outputs": []
    },
    {
      "cell_type": "code",
      "metadata": {
        "id": "dcbLmx2rJ12L",
        "colab_type": "code",
        "colab": {}
      },
      "source": [
        "# function to clean the word of any html tags\n",
        "def cleanhtml(sentence):\n",
        "    cleanr = re.compile('<.*?>')\n",
        "    cleantext = re.sub(cleanr,' ',sentence)\n",
        "    return cleantext"
      ],
      "execution_count": 0,
      "outputs": []
    },
    {
      "cell_type": "code",
      "metadata": {
        "id": "FupujaqHJ12S",
        "colab_type": "code",
        "colab": {}
      },
      "source": [
        "# clean word of any puctuations\n",
        "def cleanpunc(sentence):\n",
        "    cleaned = re.sub(r'[?|!|\\'|\"|#]',r'',sentence)    \n",
        "    cleaned = re.sub(r'[.|,|)|(|\\|/]',r'',cleaned)\n",
        "    return cleaned"
      ],
      "execution_count": 0,
      "outputs": []
    },
    {
      "cell_type": "code",
      "metadata": {
        "id": "OLNi9uBOJ12b",
        "colab_type": "code",
        "colab": {}
      },
      "source": [
        "print(sno.stem('tasty'))"
      ],
      "execution_count": 0,
      "outputs": []
    },
    {
      "cell_type": "code",
      "metadata": {
        "id": "byZaIyueJ12h",
        "colab_type": "code",
        "colab": {}
      },
      "source": [
        "# code for implementing step by step checks\n",
        "i=0\n",
        "str1=' '\n",
        "final_string=[]\n",
        "all_positive_words=[]\n",
        "all_negative_words=[]\n",
        "s=''\n",
        "for sent in final['Text'].values:\n",
        "    filtered_sentence=[]\n",
        "    for w in cleanhtml(sent).split():\n",
        "        for cleaned_words in cleanpunc(w).split():\n",
        "            print(cleaned_words)\n",
        "            if((cleaned_words.isalpha()) & (len(cleaned_words)>2)):\n",
        "                s = (sno.stem(cleaned_words.lower())).encode('utf8')\n",
        "                filtered_sentence.append(s)\n",
        "                if(final['Score'].values)[i] == 'positive':\n",
        "                    all_positive_words.append(s)\n",
        "                if(final['Score'].values)[i] == 'negative':\n",
        "                    all_negative_words.append(s)\n",
        "            else:\n",
        "                continue\n",
        "        else:\n",
        "            continue\n",
        "    str1= b\" \".join(filtered_sentence)\n",
        "    final_string.append(str1)\n",
        "    i+=1\n",
        "        \n",
        "        \n",
        "        \n",
        "        \n",
        "        "
      ],
      "execution_count": 0,
      "outputs": []
    },
    {
      "cell_type": "code",
      "metadata": {
        "id": "HX7b-S0RJ12n",
        "colab_type": "code",
        "colab": {}
      },
      "source": [
        "final['CleanedText'] = final_string #adding column of cleaned text"
      ],
      "execution_count": 0,
      "outputs": []
    },
    {
      "cell_type": "code",
      "metadata": {
        "id": "Boa2aN6nJ12x",
        "colab_type": "code",
        "colab": {}
      },
      "source": [
        "final.head(3)"
      ],
      "execution_count": 0,
      "outputs": []
    },
    {
      "cell_type": "code",
      "metadata": {
        "id": "UA1bH0f7J122",
        "colab_type": "code",
        "colab": {}
      },
      "source": [
        "# store the table into a sqlite database table for future\n",
        "conn = sqlite3.connect('final.sqlite')\n",
        "c= conn.cursor()\n",
        "conn.text_factory = str\n",
        "final.to_sql('Reviews',conn,flavor-None,schema=None,if_exists='replace')"
      ],
      "execution_count": 0,
      "outputs": []
    },
    {
      "cell_type": "markdown",
      "metadata": {
        "id": "KT6n_tM_J12_",
        "colab_type": "text"
      },
      "source": [
        "# bigrams ngrams "
      ]
    },
    {
      "cell_type": "code",
      "metadata": {
        "id": "ttH4vaUJJ13B",
        "colab_type": "code",
        "colab": {}
      },
      "source": [
        "freq_dist_positive=nltk.FreqDist(all_positive_words)\n",
        "freq_dist_negative=nltk.FreqDist(all_negative_words)\n",
        "print(\"Most common frequent words:\",freq_dist_positive.most_common(20))\n",
        "print(\"Most common negative words:\",freq_dist_negative.most_common(20))"
      ],
      "execution_count": 0,
      "outputs": []
    },
    {
      "cell_type": "code",
      "metadata": {
        "id": "qH9LM_fFJ13J",
        "colab_type": "code",
        "colab": {}
      },
      "source": [
        "# removing stop words like not should be avoided before building ngrams\n",
        "count_vect = CountVectorizer(ngram_range(1,2))\n",
        "final_bigram_counts = count_vect.fit_transform(final['Text'].values)"
      ],
      "execution_count": 0,
      "outputs": []
    },
    {
      "cell_type": "code",
      "metadata": {
        "id": "oumzMFvhJ13Q",
        "colab_type": "code",
        "colab": {}
      },
      "source": [
        "final_bigram_counts.get_shape() "
      ],
      "execution_count": 0,
      "outputs": []
    },
    {
      "cell_type": "markdown",
      "metadata": {
        "id": "siIHwqY4J13W",
        "colab_type": "text"
      },
      "source": [
        "# tf-idf"
      ]
    },
    {
      "cell_type": "code",
      "metadata": {
        "id": "ojd_4lvgJ13X",
        "colab_type": "code",
        "colab": {}
      },
      "source": [
        "tf_idf_vect = TfidfVectorizer(n_gram_range=(1,2))\n",
        "final_tf_idf = tf_idf_vect.fit_transform(final['Text'].values)"
      ],
      "execution_count": 0,
      "outputs": []
    },
    {
      "cell_type": "code",
      "metadata": {
        "id": "Mq5lait9J13f",
        "colab_type": "code",
        "colab": {}
      },
      "source": [
        "final_tf_idf.shape()"
      ],
      "execution_count": 0,
      "outputs": []
    },
    {
      "cell_type": "code",
      "metadata": {
        "id": "qA_ktZXIJ13n",
        "colab_type": "code",
        "colab": {}
      },
      "source": [
        "features = tf_idf_vect.get_feature_names()\n",
        "len(features)"
      ],
      "execution_count": 0,
      "outputs": []
    },
    {
      "cell_type": "code",
      "metadata": {
        "id": "MOMm11mDJ13u",
        "colab_type": "code",
        "colab": {}
      },
      "source": [
        "features[100000:100010]"
      ],
      "execution_count": 0,
      "outputs": []
    },
    {
      "cell_type": "code",
      "metadata": {
        "id": "73JOn3zwJ133",
        "colab_type": "code",
        "colab": {}
      },
      "source": [
        "print(final_tf_idf[3,:].toarray()[0])"
      ],
      "execution_count": 0,
      "outputs": []
    },
    {
      "cell_type": "code",
      "metadata": {
        "id": "tRqYAzzZJ13_",
        "colab_type": "code",
        "colab": {}
      },
      "source": [
        "def top_tf_idf_feats(row,features,top_n=25):\n",
        "    topn_ids = np.argsort(row)[::-1][:top_n]\n",
        "    top_feats = [(features[i],row[i]) for i in topn_ids]\n",
        "    df = pd.DataFrame(top_feats)\n",
        "    df.columns = ['feature','tfidf']\n",
        "    return df\n",
        "\n",
        "top_tfidf = top_tf_idf_feats(final_tf_idf[1,:].toarray()[0],features,25)"
      ],
      "execution_count": 0,
      "outputs": []
    },
    {
      "cell_type": "code",
      "metadata": {
        "id": "2HmrJFdzJ14T",
        "colab_type": "code",
        "colab": {}
      },
      "source": [
        "top_tfidf"
      ],
      "execution_count": 0,
      "outputs": []
    },
    {
      "cell_type": "markdown",
      "metadata": {
        "id": "zNatMkLPJ14h",
        "colab_type": "text"
      },
      "source": [
        "# word2vec\n"
      ]
    },
    {
      "cell_type": "code",
      "metadata": {
        "id": "Snq6ZuLBJ14j",
        "colab_type": "code",
        "colab": {}
      },
      "source": [
        "# using google word2vec\n",
        "from gensim.models import Word2Vec\n",
        "from gensim.models import KeyedVectors\n",
        "import pickle\n",
        "\n",
        "# model = KeyedVectors.load_word2vec_format('....')"
      ],
      "execution_count": 0,
      "outputs": []
    },
    {
      "cell_type": "code",
      "metadata": {
        "id": "AW193R4EJ14y",
        "colab_type": "code",
        "colab": {}
      },
      "source": [
        "# model.wv['computer']\n",
        "# model.wv.similarity('woman','man')\n",
        "# model.wv.most_similar('woman')"
      ],
      "execution_count": 0,
      "outputs": []
    },
    {
      "cell_type": "code",
      "metadata": {
        "id": "foyQchR1J148",
        "colab_type": "code",
        "colab": {}
      },
      "source": [
        "# train your own word2vec model\n",
        "import gensim\n",
        "i=0\n",
        "list_of_sent=[]\n",
        "\n",
        "for sent in final['Text'].values:\n",
        "    filtered_sentence=[]\n",
        "    sent = cleanhtml(sent)\n",
        "    for w in sent.split():\n",
        "        for cleaned_words in cleanpunc(w).split():\n",
        "            if(cleaned_words.isalpha()):\n",
        "                filtered_sentence.append(cleaned_words.lower())\n",
        "            else:\n",
        "                continue\n",
        "    list_of_sent.append(filtered_sentence)"
      ],
      "execution_count": 0,
      "outputs": []
    },
    {
      "cell_type": "code",
      "metadata": {
        "id": "EmWEcKdlJ15G",
        "colab_type": "code",
        "colab": {}
      },
      "source": [
        "print(final['Text'].values[0])\n",
        "print(\"***************************************************************\")\n",
        "print(list_of_sent[0])"
      ],
      "execution_count": 0,
      "outputs": []
    },
    {
      "cell_type": "code",
      "metadata": {
        "id": "TL-W0Ie2J15Q",
        "colab_type": "code",
        "colab": {}
      },
      "source": [
        "w2v_model = gensim.models.Word2Vec(list_of_sent,min_count=5,size=50,workers=4)"
      ],
      "execution_count": 0,
      "outputs": []
    },
    {
      "cell_type": "code",
      "metadata": {
        "id": "95wDfbQLJ15b",
        "colab_type": "code",
        "colab": {}
      },
      "source": [
        "words = list(w2v_model.wv.vocab)\n",
        "print(len(words))"
      ],
      "execution_count": 0,
      "outputs": []
    },
    {
      "cell_type": "code",
      "metadata": {
        "id": "UA1PWlW3J15k",
        "colab_type": "code",
        "colab": {}
      },
      "source": [
        "w2v_model.wv.most_similar('tasty')"
      ],
      "execution_count": 0,
      "outputs": []
    },
    {
      "cell_type": "code",
      "metadata": {
        "id": "BKcULbd-J15q",
        "colab_type": "code",
        "colab": {}
      },
      "source": [
        "count_vect_feat = count_vect.get_feature_names()\n",
        "count_vect_feat.index('like')\n",
        "print(count_vect_feat[64055])"
      ],
      "execution_count": 0,
      "outputs": []
    },
    {
      "cell_type": "markdown",
      "metadata": {
        "id": "f_Vm57PwJ15w",
        "colab_type": "text"
      },
      "source": [
        "# avg w2v, tfidf-w2v"
      ]
    },
    {
      "cell_type": "code",
      "metadata": {
        "id": "LBQddcHtJ15x",
        "colab_type": "code",
        "colab": {}
      },
      "source": [
        "# avg word2vec\n",
        "sent_vectors = []\n",
        "for sent in list_of_sent:\n",
        "    sent_vec=np.zeros(50)\n",
        "    cnt_words=0\n",
        "    for word in sent:\n",
        "        try:\n",
        "            vec = w2v_model.wv[word]\n",
        "            sent_vec += vec\n",
        "            cnt_words+=1\n",
        "        except:\n",
        "            pass\n",
        "    sent_vec /= cnt_words\n",
        "    sent_vectors.append(sent_vec)\n",
        "    \n",
        "print(len(sent_vectors))\n",
        "print(len(sent_vectors[0]))\n"
      ],
      "execution_count": 0,
      "outputs": []
    },
    {
      "cell_type": "code",
      "metadata": {
        "id": "zxR1WgcoJ156",
        "colab_type": "code",
        "colab": {}
      },
      "source": [
        "# tf-idf weighted word2vec\n",
        "tfidf_feat = tf_idf_vect.get_features_names()\n",
        "\n",
        "tfidf_sent_vectors = []\n",
        "row=0\n",
        "for sent in list_of_sent:\n",
        "    sent_vec=np.zeros(50)\n",
        "    weighted_sum=0\n",
        "    for word in sent:\n",
        "        try:\n",
        "            vec = w2v_model.wv[word]\n",
        "            tfidf = final_tf_idf[row,tfidf_feat.index(word)]\n",
        "            sent_vec += (vec*tf_idf)\n",
        "            weighted_sum += tf_idf\n",
        "        except:\n",
        "            pass\n",
        "    sent_vec /= weighted_sum\n",
        "    tfidf_sent_vectors.append(sent_vec)\n",
        "    row += 1\n"
      ],
      "execution_count": 0,
      "outputs": []
    },
    {
      "cell_type": "code",
      "metadata": {
        "id": "jNmEPxjWJ15-",
        "colab_type": "code",
        "colab": {}
      },
      "source": [
        ""
      ],
      "execution_count": 0,
      "outputs": []
    },
    {
      "cell_type": "code",
      "metadata": {
        "id": "WKU1wBPOJ16N",
        "colab_type": "code",
        "colab": {}
      },
      "source": [
        ""
      ],
      "execution_count": 0,
      "outputs": []
    },
    {
      "cell_type": "code",
      "metadata": {
        "id": "f_g0kHM6J16V",
        "colab_type": "code",
        "colab": {}
      },
      "source": [
        ""
      ],
      "execution_count": 0,
      "outputs": []
    }
  ]
}
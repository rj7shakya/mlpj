{
  "nbformat": 4,
  "nbformat_minor": 0,
  "metadata": {
    "kernelspec": {
      "display_name": "Python 3",
      "language": "python",
      "name": "python3"
    },
    "language_info": {
      "codemirror_mode": {
        "name": "ipython",
        "version": 3
      },
      "file_extension": ".py",
      "mimetype": "text/x-python",
      "name": "python",
      "nbconvert_exporter": "python",
      "pygments_lexer": "ipython3",
      "version": "3.6.5"
    },
    "colab": {
      "name": "quora_sim.ipynb",
      "provenance": []
    }
  },
  "cells": [
    {
      "cell_type": "code",
      "metadata": {
        "id": "146Lx7gKneCV",
        "colab_type": "code",
        "colab": {}
      },
      "source": [
        "# cost of misclassification is high \n",
        "# p of pair of questions , setting thresold\n",
        "# no strict latency concerns\n",
        "# interpretability is partially important "
      ],
      "execution_count": 0,
      "outputs": []
    },
    {
      "cell_type": "markdown",
      "metadata": {
        "id": "ccHSoMqTnhxC",
        "colab_type": "text"
      },
      "source": [
        "# **Type of machine learning problem--- binary classification**"
      ]
    },
    {
      "cell_type": "markdown",
      "metadata": {
        "id": "315l57mDn2pH",
        "colab_type": "text"
      },
      "source": [
        "# **Performance metrics--- logloss**"
      ]
    },
    {
      "cell_type": "markdown",
      "metadata": {
        "id": "250prm_9o1eI",
        "colab_type": "text"
      },
      "source": [
        "# **Exploratory Data Analysis**"
      ]
    },
    {
      "cell_type": "code",
      "metadata": {
        "id": "W6gPRg3zn9ZG",
        "colab_type": "code",
        "colab": {}
      },
      "source": [
        ""
      ],
      "execution_count": 0,
      "outputs": []
    }
  ]
}
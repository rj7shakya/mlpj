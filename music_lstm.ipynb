{
  "nbformat": 4,
  "nbformat_minor": 0,
  "metadata": {
    "colab": {
      "name": "music_lstm.ipynb",
      "provenance": [],
      "collapsed_sections": [],
      "authorship_tag": "ABX9TyPLmuZd0xZ9SW5ndtctbaE1",
      "include_colab_link": true
    },
    "kernelspec": {
      "name": "python3",
      "display_name": "Python 3"
    }
  },
  "cells": [
    {
      "cell_type": "markdown",
      "metadata": {
        "id": "view-in-github",
        "colab_type": "text"
      },
      "source": [
        "<a href=\"https://colab.research.google.com/github/rj7shakya/mlprojects/blob/master/music_lstm.ipynb\" target=\"_parent\"><img src=\"https://colab.research.google.com/assets/colab-badge.svg\" alt=\"Open In Colab\"/></a>"
      ]
    },
    {
      "cell_type": "code",
      "metadata": {
        "id": "KcKV7S5ODptf",
        "colab_type": "code",
        "outputId": "4812d78c-6179-49fa-c75e-fb015c69e61b",
        "colab": {
          "base_uri": "https://localhost:8080/",
          "height": 53
        }
      },
      "source": [
        "from google.colab import drive\n",
        "drive.mount('/content/drive')"
      ],
      "execution_count": 1,
      "outputs": [
        {
          "output_type": "stream",
          "text": [
            "Drive already mounted at /content/drive; to attempt to forcibly remount, call drive.mount(\"/content/drive\", force_remount=True).\n"
          ],
          "name": "stdout"
        }
      ]
    },
    {
      "cell_type": "code",
      "metadata": {
        "id": "w4jww3zREHWc",
        "colab_type": "code",
        "outputId": "4618137a-5ea1-4fd5-d9fa-6ad48c42e071",
        "colab": {
          "base_uri": "https://localhost:8080/",
          "height": 67
        }
      },
      "source": [
        "!ls '/content/drive/My Drive/lstm_data'"
      ],
      "execution_count": 2,
      "outputs": [
        {
          "output_type": "stream",
          "text": [
            "schu_143_1.mid\tschub_d760_1.mid  schub_d760_4.mid  schub_d960_3.mid\n",
            "schu_143_2.mid\tschub_d760_2.mid  schub_d960_1.mid  schub_d960_4.mid\n",
            "schu_143_3.mid\tschub_d760_3.mid  schub_d960_2.mid\n"
          ],
          "name": "stdout"
        }
      ]
    },
    {
      "cell_type": "code",
      "metadata": {
        "id": "XxanCwcREKgU",
        "colab_type": "code",
        "colab": {}
      },
      "source": [
        "from music21 import *"
      ],
      "execution_count": 0,
      "outputs": []
    },
    {
      "cell_type": "code",
      "metadata": {
        "id": "PAkrqJ-kENoT",
        "colab_type": "code",
        "colab": {}
      },
      "source": [
        "track=0\n",
        "# reading midi file \n",
        "def read_midi(file):\n",
        "  print(\"Loading music file\",file)\n",
        "  notes=[]\n",
        "  notes_to_parse=None\n",
        "  midi = converter.parse(file)\n",
        "  midi = midi[track]\n",
        "  notes_to_parse = midi.flat.notes\n",
        "\n",
        "  # s2 = instrument.partitionByInstrument(midi)\n",
        "  # for part in s2.parts:\n",
        "  #   if 'Piano' in str(part):\n",
        "  #     notes_to_parse = part.recurse()\n",
        "  for element in notes_to_parse:\n",
        "    if isinstance(element, note.Note):\n",
        "      notes.append(str(element.pitch))\n",
        "    elif isinstance(element, chord.Chord):\n",
        "      notes.append('.'.join(str(n) for n in element.normalOrder))\n",
        "  \n",
        "  return np.array(notes)"
      ],
      "execution_count": 0,
      "outputs": []
    },
    {
      "cell_type": "code",
      "metadata": {
        "id": "_YuHOSflEayK",
        "colab_type": "code",
        "outputId": "4981209e-58f7-455c-a231-81b877686168",
        "colab": {
          "base_uri": "https://localhost:8080/",
          "height": 118
        }
      },
      "source": [
        "import os\n",
        "import numpy as np\n",
        "path='/content/drive/My Drive/lstm_data/'\n",
        "\n",
        "files=[i for i in os.listdir(path) if i.endswith(\".mid\")]\n",
        "\n",
        "notes_array = np.array([read_midi(path+i) for i in files])"
      ],
      "execution_count": 0,
      "outputs": [
        {
          "output_type": "stream",
          "text": [
            "Loading music file /content/drive/My Drive/lstm_data/schub_d760_4.mid\n",
            "Loading music file /content/drive/My Drive/lstm_data/schu_143_2.mid\n",
            "Loading music file /content/drive/My Drive/lstm_data/schub_d960_2.mid\n",
            "Loading music file /content/drive/My Drive/lstm_data/schub_d960_1.mid\n",
            "Loading music file /content/drive/My Drive/lstm_data/schub_d760_3.mid\n",
            "Loading music file /content/drive/My Drive/lstm_data/schu_143_3.mid\n"
          ],
          "name": "stdout"
        }
      ]
    },
    {
      "cell_type": "code",
      "metadata": {
        "id": "gCrqZZaZEiE5",
        "colab_type": "code",
        "colab": {}
      },
      "source": [
        "notes_ = [element for note_ in notes_array for element in note_]\n",
        "\n",
        "#No. of unique notes\n",
        "unique_notes = list(set(notes_))\n",
        "pitches = unique_notes\n",
        "vocab_length = len(pitches)  \n",
        "number_notes = len(notes_)\n",
        "\n",
        "print(pitches)\n",
        "print(notes_)"
      ],
      "execution_count": 0,
      "outputs": []
    },
    {
      "cell_type": "code",
      "metadata": {
        "id": "onySW5htGLZx",
        "colab_type": "code",
        "colab": {}
      },
      "source": [
        "note_dict = dict()\n",
        "for i, note in enumerate(pitches):\n",
        "  note_dict[note] = i\n",
        "\n",
        "sequence_length = 50\n",
        "\n",
        "num_training = number_notes - sequence_length\n",
        "\n",
        "input_notes = np.zeros((num_training, sequence_length, vocab_length))\n",
        "output_notes = np.zeros((num_training, vocab_length))\n",
        "\n",
        "for i in range(0, num_training):\n",
        "    # Here, i is the training example, j is the note in the sequence for a specific training example\n",
        "    input_sequence = notes_[i: i+sequence_length]\n",
        "    output_note = notes_[i+sequence_length]\n",
        "    for j, note in enumerate(input_sequence):\n",
        "        input_notes[i][j][note_dict[note]] = 1\n",
        "    output_notes[i][note_dict[output_note]] = 1"
      ],
      "execution_count": 0,
      "outputs": []
    },
    {
      "cell_type": "code",
      "metadata": {
        "id": "NsOkMRRCRKby",
        "colab_type": "code",
        "colab": {}
      },
      "source": [
        "from keras.models import Sequential\n",
        "from keras.layers import Dense, Input, LSTM, Dropout, Activation\n",
        "from keras.callbacks import EarlyStopping, ModelCheckpoint\n",
        "\n",
        "model = Sequential()\n",
        "model.add(LSTM(128, return_sequences=True, input_shape=(sequence_length, vocab_length)))\n",
        "model.add(Dropout(0.2))\n",
        "model.add(LSTM(128, return_sequences=False))\n",
        "model.add(Dropout(0.2))\n",
        "model.add(Dense(vocab_length))\n",
        "model.add(Activation('softmax'))\n",
        "\n",
        "model.compile(loss='categorical_crossentropy', optimizer='rmsprop', metrics=['acc'])\n",
        "\n",
        "history = model.fit(input_notes, output_notes, batch_size=128, nb_epoch=100)"
      ],
      "execution_count": 0,
      "outputs": []
    },
    {
      "cell_type": "code",
      "metadata": {
        "id": "sikrlAwvRdGO",
        "colab_type": "code",
        "colab": {}
      },
      "source": [
        "# summarize history for accuracy\n",
        "plt.plot(history.history['acc'])\n",
        "plt.title('model accuracy')\n",
        "plt.ylabel('accuracy')\n",
        "plt.xlabel('epoch')\n",
        "plt.legend(['train'], loc='upper left')\n",
        "plt.show()"
      ],
      "execution_count": 0,
      "outputs": []
    },
    {
      "cell_type": "code",
      "metadata": {
        "id": "BOvvNVGNR9t9",
        "colab_type": "code",
        "colab": {}
      },
      "source": [
        "# generating music \n",
        "\n",
        "backward_dict = dict()\n",
        "for note in note_dict.keys():\n",
        "  index = note_dict[note]\n",
        "  backward_dict[index] = note\n",
        "\n",
        "for i in range(0, 100):\n",
        "  newNote = model.predict(start_sequence, verbose=0)\n",
        "  # Get the position with the highest probability\n",
        "  index = np.argmax(newNote)\n",
        "  encoded_note = np.zeros((vocab_length))\n",
        "  encoded_note[index] = 1\n",
        "  output.append(encoded_note)\n",
        "  sequence = start_sequence[0][1:]\n",
        "  start_sequence = np.concatenate((sequence, encoded_note.reshape(1, vocab_length)))\n",
        "  start_sequence = start_sequence.reshape(1, sequence_length, vocab_length)\n"
      ],
      "execution_count": 0,
      "outputs": []
    }
  ]
}